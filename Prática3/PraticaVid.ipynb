{
 "cells": [
  {
   "cell_type": "code",
   "execution_count": 51,
   "id": "ba7885ac",
   "metadata": {},
   "outputs": [
    {
     "name": "stdout",
     "output_type": "stream",
     "text": [
      "Defaulting to user installation because normal site-packages is not writeable\n",
      "Requirement already satisfied: pydantic in c:\\users\\felip\\appdata\\roaming\\python\\python312\\site-packages (2.11.4)\n",
      "Requirement already satisfied: annotated-types>=0.6.0 in c:\\users\\felip\\appdata\\roaming\\python\\python312\\site-packages (from pydantic) (0.7.0)\n",
      "Requirement already satisfied: pydantic-core==2.33.2 in c:\\users\\felip\\appdata\\roaming\\python\\python312\\site-packages (from pydantic) (2.33.2)\n",
      "Requirement already satisfied: typing-extensions>=4.12.2 in c:\\users\\felip\\appdata\\roaming\\python\\python312\\site-packages (from pydantic) (4.13.2)\n",
      "Requirement already satisfied: typing-inspection>=0.4.0 in c:\\users\\felip\\appdata\\roaming\\python\\python312\\site-packages (from pydantic) (0.4.0)\n",
      "Note: you may need to restart the kernel to use updated packages.\n",
      "Defaulting to user installation because normal site-packages is not writeable\n",
      "Requirement already satisfied: pydantic[email] in c:\\users\\felip\\appdata\\roaming\\python\\python312\\site-packages (2.11.4)\n",
      "Requirement already satisfied: annotated-types>=0.6.0 in c:\\users\\felip\\appdata\\roaming\\python\\python312\\site-packages (from pydantic[email]) (0.7.0)\n",
      "Requirement already satisfied: pydantic-core==2.33.2 in c:\\users\\felip\\appdata\\roaming\\python\\python312\\site-packages (from pydantic[email]) (2.33.2)\n",
      "Requirement already satisfied: typing-extensions>=4.12.2 in c:\\users\\felip\\appdata\\roaming\\python\\python312\\site-packages (from pydantic[email]) (4.13.2)\n",
      "Requirement already satisfied: typing-inspection>=0.4.0 in c:\\users\\felip\\appdata\\roaming\\python\\python312\\site-packages (from pydantic[email]) (0.4.0)\n",
      "Requirement already satisfied: email-validator>=2.0.0 in c:\\users\\felip\\appdata\\roaming\\python\\python312\\site-packages (from pydantic[email]) (2.2.0)\n",
      "Requirement already satisfied: dnspython>=2.0.0 in c:\\users\\felip\\appdata\\roaming\\python\\python312\\site-packages (from email-validator>=2.0.0->pydantic[email]) (2.7.0)\n",
      "Requirement already satisfied: idna>=2.0.0 in c:\\users\\felip\\appdata\\roaming\\python\\python312\\site-packages (from email-validator>=2.0.0->pydantic[email]) (3.10)\n",
      "Note: you may need to restart the kernel to use updated packages.\n"
     ]
    }
   ],
   "source": [
    "%pip install pydantic\n",
    "%pip install pydantic[email]"
   ]
  },
  {
   "cell_type": "code",
   "execution_count": 52,
   "id": "c755dd3d",
   "metadata": {},
   "outputs": [],
   "source": [
    "from pydantic import BaseModel, EmailStr, Field, ValidationError, field_validator\n",
    "from typing import Optional"
   ]
  },
  {
   "cell_type": "markdown",
   "id": "5f40049c",
   "metadata": {},
   "source": [
    "### Modelo Pydantic representando um formulário de registro do usuário e funções de validação."
   ]
  },
  {
   "cell_type": "code",
   "execution_count": 53,
   "id": "c931f035",
   "metadata": {},
   "outputs": [],
   "source": [
    "class FormRegistro(BaseModel):\n",
    "    \"\"\"\n",
    "    Valida os campos:\n",
    "    Username, deve ter 3-20 caracteres\n",
    "    Email, formato válido (EmailStr)\n",
    "    Password, pelo menos 8 caracteres e conter 1 dígito\n",
    "    Idade, Opcional, mas se fornecida, >= 18\n",
    "    \"\"\"\n",
    "    username: str\n",
    "    email: EmailStr = Field(\n",
    "        examples=[\"felipe@ai.com\"],\n",
    "        description=\"The email address of the user\", # Descrição do campo email\n",
    "        frozen=True,\n",
    "    )\n",
    "    password: str\n",
    "    idade: Optional[int] = None\n",
    "\n",
    "    # Validação customizada para o username\n",
    "    @field_validator(\"username\")\n",
    "    def validate_username(cls, value):\n",
    "        if len(value) < 3 or len(value) > 20: #Verifica o tamanho de username\n",
    "            raise ValueError(\"Username deve ter 3-20 caracteres.\") #Tratamento de erros\n",
    "        if not value.isalnum():\n",
    "            raise ValueError(\"Username deve ser alphanumerico.\")\n",
    "        return value\n",
    "\n",
    "    # Validação customizada para password\n",
    "    @field_validator(\"password\")\n",
    "    def validate_password(cls, value):\n",
    "        if len(value) < 8: #Verifica o tamanho de password\n",
    "            raise ValueError(\"Password deve ter pelo menos 8 caracteres.\") #Tratamento de erros\n",
    "        if not any(c.isdigit() for c in value):\n",
    "            raise ValueError(\"Password deve conter pelo menos um dígito.\")\n",
    "        return value\n",
    "    \n",
    "    # Validação customizada para idade\n",
    "    @field_validator(\"idade\")\n",
    "    def validate_age(cls, value):\n",
    "        if value is not None and value < 18: #Verifica o valor de idade\n",
    "            raise ValueError(\"Idade deve ser 18 ou mais.\") #Tratamento de erros\n",
    "        return value\n"
   ]
  },
  {
   "cell_type": "markdown",
   "id": "96aa4f44",
   "metadata": {},
   "source": [
    "### Exemplo de uso:"
   ]
  },
  {
   "cell_type": "code",
   "execution_count": 54,
   "id": "c74438c7",
   "metadata": {},
   "outputs": [],
   "source": [
    "def submit_registration(form_data: dict):\n",
    "    try:\n",
    "        registration = FormRegistro(**form_data)\n",
    "        print(\"✅ Registro válido!\")\n",
    "        print(registration.model_dump_json(indent=2))\n",
    "    except ValidationError as e:\n",
    "        print(\"❌ Erros de validação encontrados:\")\n",
    "        for error in e.errors():\n",
    "            field = error[\"loc\"][0]  # Obtém o nome do campo com erro\n",
    "            error_msg = error[\"msg\"]  # Mensagem de erro do Pydantic\n",
    "            submitted_value = form_data.get(field, \"não fornecido\")  # Valor submetido\n",
    "            \n",
    "            # Mensagem personalizada\n",
    "            print(f\"  - Campo '{field}':\")\n",
    "            print(f\"     Valor inválido: '{submitted_value}'\")\n",
    "            print(f\"     Problema: {error_msg}\\n\")"
   ]
  },
  {
   "cell_type": "markdown",
   "id": "a67234f2",
   "metadata": {},
   "source": [
    "### Casos teste"
   ]
  },
  {
   "cell_type": "code",
   "execution_count": 55,
   "id": "b23d2c1e",
   "metadata": {},
   "outputs": [
    {
     "name": "stdout",
     "output_type": "stream",
     "text": [
      "✅ Registro válido!\n",
      "{\n",
      "  \"username\": \"alice123\",\n",
      "  \"email\": \"alice@example.com\",\n",
      "  \"password\": \"secure123\",\n",
      "  \"idade\": null\n",
      "}\n",
      "❌ Erros de validação encontrados:\n",
      "  - Campo 'username':\n",
      "     Valor inválido: 'bob!'\n",
      "     Problema: Value error, Username deve ser alphanumerico.\n",
      "\n",
      "  - Campo 'password':\n",
      "     Valor inválido: 'short'\n",
      "     Problema: Value error, Password deve ter pelo menos 8 caracteres.\n",
      "\n"
     ]
    }
   ],
   "source": [
    "if __name__ == \"__main__\":\n",
    "    # Caso 1: Dados válidos\n",
    "    valid_data = {\n",
    "        \"username\": \"alice123\",\n",
    "        \"email\": \"alice@example.com\",\n",
    "        \"password\": \"secure123\",\n",
    "        \"age\": 25\n",
    "    }\n",
    "    submit_registration(valid_data)\n",
    "\n",
    "    # Case 2: Dados inválidos (password curta, idade abaixo de 18)\n",
    "    invalid_data = {\n",
    "        \"username\": \"bob!\",\n",
    "        \"email\": \"bob@example.com\",\n",
    "        \"password\": \"short\",\n",
    "        \"age\": 17\n",
    "    }\n",
    "    submit_registration(invalid_data)"
   ]
  }
 ],
 "metadata": {
  "kernelspec": {
   "display_name": "Python 3",
   "language": "python",
   "name": "python3"
  },
  "language_info": {
   "codemirror_mode": {
    "name": "ipython",
    "version": 3
   },
   "file_extension": ".py",
   "mimetype": "text/x-python",
   "name": "python",
   "nbconvert_exporter": "python",
   "pygments_lexer": "ipython3",
   "version": "3.12.6"
  }
 },
 "nbformat": 4,
 "nbformat_minor": 5
}
