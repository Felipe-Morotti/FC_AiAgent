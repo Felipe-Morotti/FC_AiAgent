{
 "cells": [
  {
   "cell_type": "code",
   "execution_count": 1,
   "id": "c4d090be",
   "metadata": {},
   "outputs": [
    {
     "name": "stdout",
     "output_type": "stream",
     "text": [
      "Defaulting to user installation because normal site-packages is not writeable\n",
      "Requirement already satisfied: pydantic in c:\\users\\felip\\appdata\\roaming\\python\\python312\\site-packages (2.11.4)\n",
      "Requirement already satisfied: annotated-types>=0.6.0 in c:\\users\\felip\\appdata\\roaming\\python\\python312\\site-packages (from pydantic) (0.7.0)\n",
      "Requirement already satisfied: pydantic-core==2.33.2 in c:\\users\\felip\\appdata\\roaming\\python\\python312\\site-packages (from pydantic) (2.33.2)\n",
      "Requirement already satisfied: typing-extensions>=4.12.2 in c:\\users\\felip\\appdata\\roaming\\python\\python312\\site-packages (from pydantic) (4.13.2)\n",
      "Requirement already satisfied: typing-inspection>=0.4.0 in c:\\users\\felip\\appdata\\roaming\\python\\python312\\site-packages (from pydantic) (0.4.0)\n",
      "Note: you may need to restart the kernel to use updated packages.\n",
      "Defaulting to user installation because normal site-packages is not writeable\n",
      "Requirement already satisfied: pydantic[email] in c:\\users\\felip\\appdata\\roaming\\python\\python312\\site-packages (2.11.4)\n",
      "Requirement already satisfied: annotated-types>=0.6.0 in c:\\users\\felip\\appdata\\roaming\\python\\python312\\site-packages (from pydantic[email]) (0.7.0)\n",
      "Requirement already satisfied: pydantic-core==2.33.2 in c:\\users\\felip\\appdata\\roaming\\python\\python312\\site-packages (from pydantic[email]) (2.33.2)\n",
      "Requirement already satisfied: typing-extensions>=4.12.2 in c:\\users\\felip\\appdata\\roaming\\python\\python312\\site-packages (from pydantic[email]) (4.13.2)\n",
      "Requirement already satisfied: typing-inspection>=0.4.0 in c:\\users\\felip\\appdata\\roaming\\python\\python312\\site-packages (from pydantic[email]) (0.4.0)\n",
      "Requirement already satisfied: email-validator>=2.0.0 in c:\\users\\felip\\appdata\\roaming\\python\\python312\\site-packages (from pydantic[email]) (2.2.0)\n",
      "Requirement already satisfied: dnspython>=2.0.0 in c:\\users\\felip\\appdata\\roaming\\python\\python312\\site-packages (from email-validator>=2.0.0->pydantic[email]) (2.7.0)\n",
      "Requirement already satisfied: idna>=2.0.0 in c:\\users\\felip\\appdata\\roaming\\python\\python312\\site-packages (from email-validator>=2.0.0->pydantic[email]) (3.10)\n",
      "Note: you may need to restart the kernel to use updated packages.\n"
     ]
    }
   ],
   "source": [
    "%pip install pydantic\n",
    "%pip install pydantic[email]"
   ]
  },
  {
   "cell_type": "markdown",
   "id": "b82eb046",
   "metadata": {},
   "source": [
    "### Importações necessárias"
   ]
  },
  {
   "cell_type": "code",
   "execution_count": null,
   "id": "7b5131e4",
   "metadata": {},
   "outputs": [],
   "source": [
    "from enum import auto, IntFlag\n",
    "from typing import Any\n",
    "\n",
    "from pydantic import (\n",
    "    BaseModel, # Fundação dos modelos Pydantic\n",
    "    EmailStr, # Validação especializada de strings para emails\n",
    "    Field, # Customização com metadados\n",
    "    SecretStr, # Manejo de dados sensíveis\n",
    "    ValidationError, # Manejo de falhas de validação\n",
    ")"
   ]
  },
  {
   "cell_type": "markdown",
   "id": "87c33a21",
   "metadata": {},
   "source": [
    "### Classes"
   ]
  },
  {
   "cell_type": "code",
   "execution_count": null,
   "id": "44a7fa06",
   "metadata": {},
   "outputs": [],
   "source": [
    "class Role(IntFlag):\n",
    "    # Enumeração de papéis\n",
    "    Author = auto()\n",
    "    Editor = auto()\n",
    "    Developer = auto()\n",
    "    Admin = Author | Editor | Developer # Admin pode ser autor ou editor ou desenvolvedor\n",
    "\n",
    "class User(BaseModel):\n",
    "    # Modelo de usuário\n",
    "    name: str = Field(examples=[\"Felipe\"]) #Exemplo de nome\n",
    "    email: EmailStr = Field(\n",
    "        examples=[\"felipe@ai.com\"],\n",
    "        description=\"The email address of the user\", # Descrição do campo email\n",
    "        frozen=True,\n",
    "    )\n",
    "    password: SecretStr = Field(\n",
    "        examples=[\"Password123\"], description=\"The password of the user\" # Senha e descrição do campo senha\n",
    "    )\n",
    "    role: Role = Field(default=None, description=\"The role of the user\") # Papel do usuário setado none"
   ]
  },
  {
   "cell_type": "markdown",
   "id": "69e11215",
   "metadata": {},
   "source": [
    "### Funções"
   ]
  },
  {
   "cell_type": "code",
   "execution_count": null,
   "id": "4237e419",
   "metadata": {},
   "outputs": [],
   "source": [
    "# Função para validação dos dados\n",
    "def validate(data: dict[str, Any]) -> None:\n",
    "    try:\n",
    "        user = User.model_validate(data) # Valida \"data\"\n",
    "        print(user) # Imprime os dados com avaliação\n",
    "    except ValidationError as e:\n",
    "        print(\"User is invalid\") # Mensagem caso a validação dê errado\n",
    "        for error in e.errors():\n",
    "            print(error) # Imprime cada erro na validação\n",
    "\n",
    "def main() -> None:\n",
    "    # Exemplo de dados que vão passar na validação\n",
    "    good_data = {\n",
    "        \"name\": \"Arjan\",\n",
    "        \"email\": \"example@arjancodes.com\",\n",
    "        \"password\": \"Password123\",\n",
    "    }\n",
    "    # Exemplo de dados que vão ter erros apontados\n",
    "    bad_data = {\"email\": \"<bad data>\", \"password\": \"<bad data>\"}\n",
    "\n",
    "    validate(good_data)\n",
    "    validate(bad_data)"
   ]
  },
  {
   "cell_type": "code",
   "execution_count": 7,
   "id": "1f1c9512",
   "metadata": {},
   "outputs": [
    {
     "name": "stdout",
     "output_type": "stream",
     "text": [
      "name='Arjan' email='example@arjancodes.com' password=SecretStr('**********') role=None\n",
      "User is invalid\n",
      "{'type': 'missing', 'loc': ('name',), 'msg': 'Field required', 'input': {'email': '<bad data>', 'password': '<bad data>'}, 'url': 'https://errors.pydantic.dev/2.11/v/missing'}\n",
      "{'type': 'value_error', 'loc': ('email',), 'msg': 'value is not a valid email address: An email address must have an @-sign.', 'input': '<bad data>', 'ctx': {'reason': 'An email address must have an @-sign.'}}\n"
     ]
    }
   ],
   "source": [
    "if __name__ == \"__main__\":\n",
    "    main()"
   ]
  }
 ],
 "metadata": {
  "kernelspec": {
   "display_name": "Python 3",
   "language": "python",
   "name": "python3"
  },
  "language_info": {
   "codemirror_mode": {
    "name": "ipython",
    "version": 3
   },
   "file_extension": ".py",
   "mimetype": "text/x-python",
   "name": "python",
   "nbconvert_exporter": "python",
   "pygments_lexer": "ipython3",
   "version": "3.12.6"
  }
 },
 "nbformat": 4,
 "nbformat_minor": 5
}
